{
 "cells": [
  {
   "cell_type": "code",
   "execution_count": 128,
   "id": "e011d315",
   "metadata": {},
   "outputs": [],
   "source": [
    "import pandas as pd\n",
    "import requests\n",
    "from bs4 import BeautifulSoup\n",
    "import warnings\n"
   ]
  },
  {
   "cell_type": "code",
   "execution_count": 129,
   "id": "85cd80de",
   "metadata": {},
   "outputs": [],
   "source": [
    "url=\"https://www.amazon.in/s?k=bag&crids=DFPVAY6HSK3T&sprefix=bag%2Caps%2C250&ref=sr_pg_\"\n",
    "head_url=\"https://www.amazon.in\"\n"
   ]
  },
  {
   "cell_type": "code",
   "execution_count": 130,
   "id": "f89cc376",
   "metadata": {},
   "outputs": [],
   "source": [
    "headers=({'User-Agent':'Mozilla/5.0 (Windows NT 10.0; Win64; x64) AppleWebKit/537.36 (KHTML, like Gecko) Chrome/115.0.0.0 Safari/537.36 Edg/115.0.1901.203',\"Accept-Language\":'en-US,en;q=0.5'})"
   ]
  },
  {
   "cell_type": "code",
   "execution_count": 131,
   "id": "985b9b54",
   "metadata": {},
   "outputs": [],
   "source": [
    "def creating(url,headers,head_url):\n",
    "    columns=[\"Product_url\",\"Product_name\",\"Product_price\",\"Rating\",\"Number_reviews\",\"Description\",\"Product_Description\",\"Manufecturer\",\"ASIN\"]\n",
    "    df=pd.DataFrame(columns=columns)\n",
    "    for x in range(21):\n",
    "        x=x+1\n",
    "        new_url=url+str(x)\n",
    "        web=requests.get(new_url,headers=headers)\n",
    "        soup=BeautifulSoup(web.content,\"html.parser\")\n",
    "        links=soup.find_all(\"a\",attrs={'class':'a-link-normal s-underline-text s-underline-link-text s-link-style a-text-normal'})\n",
    "        \n",
    "        for items in range(len(links)):\n",
    "            \n",
    "            product_url=head_url+links[items].get('href')\n",
    "            new_web=requests.get(product_url,headers=headers)\n",
    "            \n",
    "            inner_soup=BeautifulSoup(new_web.content,\"html.parser\")\n",
    "            try:\n",
    "                name=inner_soup.find(\"h1\",attrs={'id':'title'}).text\n",
    "            except Exception as e:\n",
    "                name=\"nil\"\n",
    "        \n",
    "            try:\n",
    "                product_rating=inner_soup.find(\"span\",attrs={'class':'a-size-base a-color-base'}).text\n",
    "                product_rating=float(product_rating.strip()[0])\n",
    "            except Exception as e:\n",
    "                product_rating=0\n",
    "            try:\n",
    "                product_price=inner_soup.find(\"span\",attrs={'class':'a-price-whole'}).text\n",
    "            except Exception as e:\n",
    "                product_price=\"0\"\n",
    "            try:   \n",
    "                product_review=inner_soup.find(\"span\",attrs={'d':'acrCustomerReviewText'}).text\n",
    "            except Exception as e:\n",
    "                product_review=\"nil\"\n",
    "                \n",
    "            try:    \n",
    "                product_description=inner_soup.find(\"ul\",attrs={'class':'a-unordered-list a-vertical a-spacing-mini'}).text\n",
    "            except Exception as e:\n",
    "                product_description=\"nil\"\n",
    "                \n",
    "            try:\n",
    "                description=inner_soup.find(\"ul\",attrs={'class':'a-unordered-list a-vertical a-spacing-mini'}).text\n",
    "            except Exception as e:\n",
    "                description=\"nil\"\n",
    "                \n",
    "            try:\n",
    "                asin_pattern = r'B[A-Z0-9]{9}'\n",
    "                asin=inner_soup.find('span',attrs={'class':'a-list-item'}).text\n",
    "                asin_no=re.findall(asin_pattern, asin)\n",
    "            except Exception as e:\n",
    "                asin_no=\"nil\"\n",
    "            try:\n",
    "                \n",
    "                manufacturer_pattern = r'Manufacturer: (.+)'\n",
    "                manufact=inner_soup.find('span',attrs={'class':'a-list-item'}).text\n",
    "                manufacture=re.findall(manufacturer_pattern,manufact)\n",
    "            except Exception as e:\n",
    "                manufacture=\"nil\"\n",
    "                \n",
    "            data={\"Product_url\":product_url,\"Product_name\":name,\"Product_price\":product_price,\"Rating\":product_rating,\"Number_reviews\":product_review,\"Description\":description,\"Product_Description\":product_description,\"Manufecturer\":manufacture,\"ASIN\":asin_no}\n",
    "            df=df.append(data,ignore_index=True)\n",
    "            return df\n",
    "        \n",
    "        \n",
    "        \n",
    "        "
   ]
  },
  {
   "cell_type": "code",
   "execution_count": 132,
   "id": "11618e9d",
   "metadata": {},
   "outputs": [],
   "source": [
    "df=creating(url,headers,head_url)"
   ]
  },
  {
   "cell_type": "code",
   "execution_count": 133,
   "id": "a99bf058",
   "metadata": {},
   "outputs": [
    {
     "data": {
      "text/html": [
       "<div>\n",
       "<style scoped>\n",
       "    .dataframe tbody tr th:only-of-type {\n",
       "        vertical-align: middle;\n",
       "    }\n",
       "\n",
       "    .dataframe tbody tr th {\n",
       "        vertical-align: top;\n",
       "    }\n",
       "\n",
       "    .dataframe thead th {\n",
       "        text-align: right;\n",
       "    }\n",
       "</style>\n",
       "<table border=\"1\" class=\"dataframe\">\n",
       "  <thead>\n",
       "    <tr style=\"text-align: right;\">\n",
       "      <th></th>\n",
       "      <th>Product_url</th>\n",
       "      <th>Product_name</th>\n",
       "      <th>Product_price</th>\n",
       "      <th>Rating</th>\n",
       "      <th>Number_reviews</th>\n",
       "      <th>Description</th>\n",
       "      <th>Product_Description</th>\n",
       "      <th>Manufecturer</th>\n",
       "      <th>ASIN</th>\n",
       "    </tr>\n",
       "  </thead>\n",
       "  <tbody>\n",
       "    <tr>\n",
       "      <th>0</th>\n",
       "      <td>https://www.amazon.in/uppercase-Professional-r...</td>\n",
       "      <td>nil</td>\n",
       "      <td>0</td>\n",
       "      <td>0</td>\n",
       "      <td>nil</td>\n",
       "      <td>nil</td>\n",
       "      <td>nil</td>\n",
       "      <td>nil</td>\n",
       "      <td>nil</td>\n",
       "    </tr>\n",
       "  </tbody>\n",
       "</table>\n",
       "</div>"
      ],
      "text/plain": [
       "                                         Product_url Product_name  \\\n",
       "0  https://www.amazon.in/uppercase-Professional-r...          nil   \n",
       "\n",
       "  Product_price Rating Number_reviews Description Product_Description  \\\n",
       "0             0      0            nil         nil                 nil   \n",
       "\n",
       "  Manufecturer ASIN  \n",
       "0          nil  nil  "
      ]
     },
     "execution_count": 133,
     "metadata": {},
     "output_type": "execute_result"
    }
   ],
   "source": [
    "df"
   ]
  },
  {
   "cell_type": "code",
   "execution_count": null,
   "id": "dddc84a1",
   "metadata": {},
   "outputs": [],
   "source": [
    "df.to_csv('output.csv', index=False)"
   ]
  }
 ],
 "metadata": {
  "kernelspec": {
   "display_name": "Python 3 (ipykernel)",
   "language": "python",
   "name": "python3"
  },
  "language_info": {
   "codemirror_mode": {
    "name": "ipython",
    "version": 3
   },
   "file_extension": ".py",
   "mimetype": "text/x-python",
   "name": "python",
   "nbconvert_exporter": "python",
   "pygments_lexer": "ipython3",
   "version": "3.10.9"
  }
 },
 "nbformat": 4,
 "nbformat_minor": 5
}
